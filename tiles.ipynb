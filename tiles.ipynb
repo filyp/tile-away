{
 "cells": [
  {
   "cell_type": "markdown",
   "metadata": {
    "Collapsed": "false"
   },
   "source": [
    "### make sure to install\n",
    "```\n",
    "pip install ipympl\n",
    "pip install nodejs\n",
    "jupyter labextension install @jupyter-widgets/jupyterlab-manager\n",
    "jupyter labextension install jupyter-matplotlib\n",
    "```\n",
    "\n",
    "credit: https://stackoverflow.com/a/56416229/11756613"
   ]
  },
  {
   "cell_type": "code",
   "execution_count": null,
   "metadata": {
    "Collapsed": "false"
   },
   "outputs": [],
   "source": [
    "%load_ext lab_black\n",
    "%matplotlib widget\n",
    "# %matplotlib nbagg should support double clicks, but doesn't work in jupyter :(\n",
    "\n",
    "import numpy as np\n",
    "import networkx as nx\n",
    "import matplotlib.pyplot as plt\n",
    "\n",
    "plt.style.use(\"dark_background\")"
   ]
  },
  {
   "cell_type": "code",
   "execution_count": null,
   "metadata": {
    "Collapsed": "false"
   },
   "outputs": [],
   "source": [
    "# temporary autocompletion bug fix\n",
    "%config Completer.use_jedi = False"
   ]
  },
  {
   "cell_type": "code",
   "execution_count": null,
   "metadata": {
    "Collapsed": "false"
   },
   "outputs": [],
   "source": [
    "def poly(sides, G, n1, n2):\n",
    "    ns = [n1, n2]\n",
    "    poss = []\n",
    "    poss.append(G.nodes[n1][\"pos\"])\n",
    "    poss.append(G.nodes[n2][\"pos\"])\n",
    "    direction = poss[1] - poss[0]\n",
    "    assert np.isclose(1, abs(direction), atol=0.2)\n",
    "\n",
    "    rotation = np.exp(2 * np.pi * 1j / sides)\n",
    "    for i in range(1, sides - 1):\n",
    "        poss.append(poss[-1] + direction * rotation ** i)\n",
    "\n",
    "    existing_poss = nx.get_node_attributes(G, \"pos\")\n",
    "\n",
    "    for pos in poss[2:]:\n",
    "        match = [\n",
    "            node\n",
    "            for node, e_pos in existing_poss.items()\n",
    "            if np.isclose(e_pos, pos, atol=0.2)\n",
    "        ]\n",
    "        if match:\n",
    "            # node already exists in this position, so use it\n",
    "            assert len(match) == 1\n",
    "            ns.append(match[0])\n",
    "        else:\n",
    "            # no node exists in this position, so create it\n",
    "            ns.append(len(G.nodes))  # assumes nodes are numbered 0,1,2,...\n",
    "            G.add_node(ns[-1], pos=pos)\n",
    "\n",
    "    for i in range(sides):\n",
    "        G.add_edge(ns[i], ns[(i + 1) % sides])"
   ]
  },
  {
   "cell_type": "code",
   "execution_count": null,
   "metadata": {
    "Collapsed": "false"
   },
   "outputs": [],
   "source": [
    "# initialize graph\n",
    "G = nx.Graph()\n",
    "\n",
    "G.add_node(0, pos=0)\n",
    "G.add_node(1, pos=1)\n",
    "G.add_edge(0, 1)\n",
    "\n",
    "# define figure\n",
    "fig, ax = plt.subplots()\n",
    "fig.set_size_inches(10, 10)\n",
    "size = 10\n",
    "ax.set_xlim([-size, size])\n",
    "ax.set_ylim([-size, size])\n",
    "fig.tight_layout()\n",
    "\n",
    "positions = nx.get_node_attributes(G, \"pos\")\n",
    "# convert complex position to a 2D tuple\n",
    "positions = {key: (value.real, value.imag) for key, value in positions.items()}\n",
    "nx.draw_networkx(G, positions, ax, with_labels=False, node_size=0, edge_color=\"white\")\n",
    "\n",
    "irregular = False\n",
    "\n",
    "\n",
    "def onclick(event):\n",
    "    global irregular\n",
    "\n",
    "    click_pos = event.xdata + event.ydata * 1j\n",
    "    positions = nx.get_node_attributes(G, \"pos\")\n",
    "    positions = list(positions.items())\n",
    "    positions.sort(key=lambda pair: abs(pair[1] - click_pos))\n",
    "    n1, pos1 = positions[0]\n",
    "    n2, pos2 = positions[1]\n",
    "\n",
    "    # find on which side the click was\n",
    "    side = ((click_pos - pos1) / (pos2 - pos1)).imag\n",
    "    if 0 > side:\n",
    "        # if it's the bad side, flip nodes\n",
    "        n1, n2 = n2, n1\n",
    "\n",
    "    if event.button == 1 and not event.dblclick:  # left click\n",
    "        poly(3, G, n1, n2)\n",
    "    elif event.button == 3 and not irregular:  # right click\n",
    "        poly(4, G, n1, n2)\n",
    "    elif event.button == 1 and event.dblclick:\n",
    "        poly(5, G, n1, n2)\n",
    "    elif event.button == 3 and irregular:\n",
    "        poly(7, G, n1, n2)\n",
    "\n",
    "    # convert complex position to a 2D tuple\n",
    "    positions = nx.get_node_attributes(G, \"pos\")\n",
    "    positions = {key: (value.real, value.imag) for key, value in positions.items()}\n",
    "    nx.draw_networkx(\n",
    "        G, positions, ax, with_labels=False, node_size=0, edge_color=\"white\"\n",
    "    )\n",
    "\n",
    "\n",
    "cid = fig.canvas.mpl_connect(\"button_press_event\", onclick)"
   ]
  },
  {
   "cell_type": "code",
   "execution_count": null,
   "metadata": {
    "Collapsed": "false"
   },
   "outputs": [],
   "source": [
    "irregular = not irregular\n",
    "irregular"
   ]
  },
  {
   "cell_type": "code",
   "execution_count": null,
   "metadata": {
    "Collapsed": "false"
   },
   "outputs": [],
   "source": []
  }
 ],
 "metadata": {
  "kernelspec": {
   "display_name": "Python 3",
   "language": "python",
   "name": "python3"
  },
  "language_info": {
   "codemirror_mode": {
    "name": "ipython",
    "version": 3
   },
   "file_extension": ".py",
   "mimetype": "text/x-python",
   "name": "python",
   "nbconvert_exporter": "python",
   "pygments_lexer": "ipython3",
   "version": "3.9.1"
  }
 },
 "nbformat": 4,
 "nbformat_minor": 4
}
