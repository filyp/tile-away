{
 "cells": [
  {
   "cell_type": "markdown",
   "metadata": {
    "Collapsed": "false"
   },
   "source": [
    "### make sure to install\n",
    "```\n",
    "pip install ipympl\n",
    "pip install nodejs\n",
    "jupyter labextension install @jupyter-widgets/jupyterlab-manager\n",
    "jupyter labextension install jupyter-matplotlib\n",
    "```\n",
    "\n",
    "credit: https://stackoverflow.com/a/56416229/11756613"
   ]
  },
  {
   "cell_type": "code",
   "execution_count": 1,
   "metadata": {
    "Collapsed": "false"
   },
   "outputs": [],
   "source": [
    "%load_ext lab_black\n",
    "%matplotlib widget\n",
    "\n",
    "import numpy as np\n",
    "import networkx as nx\n",
    "import matplotlib.pyplot as plt\n",
    "\n",
    "plt.style.use(\"dark_background\")"
   ]
  },
  {
   "cell_type": "code",
   "execution_count": 2,
   "metadata": {
    "Collapsed": "false"
   },
   "outputs": [],
   "source": [
    "# temporary autocompletion bug fix\n",
    "%config Completer.use_jedi = False"
   ]
  },
  {
   "cell_type": "code",
   "execution_count": 9,
   "metadata": {
    "Collapsed": "false"
   },
   "outputs": [],
   "source": [
    "def square(G, n1, n2):\n",
    "    pos1 = G.nodes[n1][\"pos\"]\n",
    "    pos2 = G.nodes[n2][\"pos\"]\n",
    "    direction = pos2 - pos1\n",
    "    assert np.isclose(1, abs(direction))\n",
    "\n",
    "    rotation = np.exp(2 * np.pi * 1j / 4)\n",
    "    pos3 = pos2 + direction * rotation\n",
    "    pos4 = pos3 + direction * rotation ** 2\n",
    "\n",
    "    existing_pos = nx.get_node_attributes(G, \"pos\")\n",
    "\n",
    "    match = [node for node, pos in existing_pos.items() if np.isclose(pos, pos3)]\n",
    "    if match:\n",
    "        # node already exists in this position, so use it\n",
    "        assert len(match) == 1\n",
    "        n3 = match[0]\n",
    "    else:\n",
    "        # no node exists in this position, so create it\n",
    "        n3 = len(G.nodes)  # assumes nodes are numbered 0,1,2,...\n",
    "        G.add_node(n3, pos=pos3)\n",
    "\n",
    "    match = [node for node, pos in existing_pos.items() if np.isclose(pos, pos4)]\n",
    "    if match:\n",
    "        # node already exists in this position, so use it\n",
    "        assert len(match) == 1\n",
    "        n4 = match[0]\n",
    "    else:\n",
    "        # no node exists in this position, so create it\n",
    "        n4 = len(G.nodes)  # assumes nodes are numbered 0,1,2,...\n",
    "        G.add_node(n4, pos=pos4)\n",
    "\n",
    "    G.add_edge(n1, n2)\n",
    "    G.add_edge(n2, n3)\n",
    "    G.add_edge(n3, n4)\n",
    "    G.add_edge(n4, n1)\n",
    "\n",
    "\n",
    "def triangle(G, n1, n2):\n",
    "    pos1 = G.nodes[n1][\"pos\"]\n",
    "    pos2 = G.nodes[n2][\"pos\"]\n",
    "    direction = pos2 - pos1\n",
    "    assert np.isclose(1, abs(direction))\n",
    "\n",
    "    rotation = np.exp(2 * np.pi * 1j / 3)\n",
    "    pos3 = pos2 + direction * rotation\n",
    "\n",
    "    existing_pos = nx.get_node_attributes(G, \"pos\")\n",
    "\n",
    "    match = [node for node, pos in existing_pos.items() if np.isclose(pos, pos3)]\n",
    "    if match:\n",
    "        # node already exists in this position, so use it\n",
    "        assert len(match) == 1\n",
    "        n3 = match[0]\n",
    "    else:\n",
    "        # no node exists in this position, so create it\n",
    "        n3 = len(G.nodes)  # assumes nodes are numbered 0,1,2,...\n",
    "        G.add_node(n3, pos=pos3)\n",
    "\n",
    "    G.add_edge(n1, n2)\n",
    "    G.add_edge(n2, n3)\n",
    "    G.add_edge(n3, n1)"
   ]
  },
  {
   "cell_type": "code",
   "execution_count": 22,
   "metadata": {
    "Collapsed": "false"
   },
   "outputs": [],
   "source": [
    "# initialize graph\n",
    "G = nx.Graph()\n",
    "\n",
    "G.add_node(0, pos=0)\n",
    "G.add_node(1, pos=1)\n",
    "G.add_edge(0, 1)"
   ]
  },
  {
   "cell_type": "code",
   "execution_count": 23,
   "metadata": {
    "Collapsed": "false"
   },
   "outputs": [
    {
     "data": {
      "application/vnd.jupyter.widget-view+json": {
       "model_id": "5d92fbbbb99249c18bc51963201c7bd4",
       "version_major": 2,
       "version_minor": 0
      },
      "text/plain": [
       "Canvas(toolbar=Toolbar(toolitems=[('Home', 'Reset original view', 'home', 'home'), ('Back', 'Back to previous …"
      ]
     },
     "metadata": {},
     "output_type": "display_data"
    }
   ],
   "source": [
    "fig, ax = plt.subplots()\n",
    "fig.tight_layout()\n",
    "fig.set_size_inches(10, 10)\n",
    "size = 10\n",
    "ax.set_xlim([-size, size])\n",
    "ax.set_ylim([-size, size])\n",
    "\n",
    "positions = nx.get_node_attributes(G, \"pos\")\n",
    "# convert complex position to a 2D tuple\n",
    "positions = {key: (value.real, value.imag) for key, value in positions.items()}\n",
    "nx.draw_networkx(G, positions, ax, with_labels=False, node_size=0, edge_color=\"white\")\n",
    "\n",
    "\n",
    "def onclick(event):\n",
    "    click_pos = event.xdata + event.ydata * 1j\n",
    "    positions = nx.get_node_attributes(G, \"pos\")\n",
    "    positions = list(positions.items())\n",
    "    positions.sort(key=lambda pair: abs(pair[1] - click_pos))\n",
    "    n1, pos1 = positions[0]\n",
    "    n2, pos2 = positions[1]\n",
    "\n",
    "    # find on which side the click was\n",
    "    side = ((click_pos - pos1) / (pos2 - pos1)).imag\n",
    "    if 0 > side:\n",
    "        # if it's the bad side, flip nodes\n",
    "        n1, n2 = n2, n1\n",
    "\n",
    "    if event.button == 1:  # left click\n",
    "        triangle(G, n1, n2)\n",
    "    elif event.button == 3:  # right click\n",
    "        square(G, n1, n2)\n",
    "\n",
    "    # convert complex position to a 2D tuple\n",
    "    positions = nx.get_node_attributes(G, \"pos\")\n",
    "    positions = {key: (value.real, value.imag) for key, value in positions.items()}\n",
    "    nx.draw_networkx(\n",
    "        G, positions, ax, with_labels=False, node_size=0, edge_color=\"white\"\n",
    "    )\n",
    "\n",
    "\n",
    "cid = fig.canvas.mpl_connect(\"button_press_event\", onclick)"
   ]
  },
  {
   "cell_type": "code",
   "execution_count": 14,
   "metadata": {
    "Collapsed": "false"
   },
   "outputs": [
    {
     "data": {
      "text/plain": [
       "0.4105259676747431"
      ]
     },
     "execution_count": 14,
     "metadata": {},
     "output_type": "execute_result"
    }
   ],
   "source": [
    "side"
   ]
  },
  {
   "cell_type": "code",
   "execution_count": 11,
   "metadata": {
    "Collapsed": "false"
   },
   "outputs": [],
   "source": [
    "B = G.copy()"
   ]
  },
  {
   "cell_type": "code",
   "execution_count": 8,
   "metadata": {
    "Collapsed": "false"
   },
   "outputs": [
    {
     "data": {
      "text/plain": [
       "<networkx.classes.graph.Graph at 0x7f69633e7100>"
      ]
     },
     "execution_count": 8,
     "metadata": {},
     "output_type": "execute_result"
    }
   ],
   "source": [
    "B"
   ]
  },
  {
   "cell_type": "code",
   "execution_count": null,
   "metadata": {
    "Collapsed": "false"
   },
   "outputs": [],
   "source": []
  }
 ],
 "metadata": {
  "kernelspec": {
   "display_name": "Python 3",
   "language": "python",
   "name": "python3"
  },
  "language_info": {
   "codemirror_mode": {
    "name": "ipython",
    "version": 3
   },
   "file_extension": ".py",
   "mimetype": "text/x-python",
   "name": "python",
   "nbconvert_exporter": "python",
   "pygments_lexer": "ipython3",
   "version": "3.9.1"
  }
 },
 "nbformat": 4,
 "nbformat_minor": 4
}
